{
 "cells": [
  {
   "cell_type": "code",
   "execution_count": 22,
   "metadata": {},
   "outputs": [],
   "source": [
    "import re\n",
    "import os\n",
    "import time\n",
    "import numpy as np\n",
    "import pandas as pd\n",
    "import scipy.stats as stats\n",
    "from random import randint\n",
    "from matplotlib.ticker import MaxNLocator\n",
    "from functools import partial\n",
    "import pickle\n",
    "import ast\n",
    "\n",
    "from sklearn.pipeline import FeatureUnion\n",
    "from sklearn.pipeline import Pipeline\n",
    "\n",
    "from sklearn.base import TransformerMixin\n",
    "from sklearn.base import BaseEstimator\n",
    "from sklearn import decomposition, ensemble\n",
    "\n",
    "import seaborn as sns\n",
    "import matplotlib.pyplot as plt\n",
    "from scipy import sparse\n",
    "\n",
    "import nltk\n",
    "from nltk.stem import PorterStemmer \n",
    "from nltk.tokenize import sent_tokenize, word_tokenize\n",
    "\n",
    "from sklearn.feature_extraction.text import TfidfVectorizer, CountVectorizer\n",
    "\n",
    "import string\n",
    "from nltk.corpus import stopwords\n",
    "punctuation_without_dot = list(filter(lambda x: x != '.' or x != ',' , string.punctuation))\n",
    "STOPWORDS = list(set(stopwords.words('english'))) + punctuation_without_dot\n",
    "#WARNING ! ! ! \n",
    "#There are several known issues with ‘english’ and you should consider an alternative.\n",
    "#-> https://scikit-learn.org/stable/modules/feature_extraction.html#stop-words\n",
    "\n",
    "import data_lake_helper as dl_helper"
   ]
  },
  {
   "cell_type": "code",
   "execution_count": null,
   "metadata": {},
   "outputs": [],
   "source": []
  },
  {
   "cell_type": "code",
   "execution_count": 23,
   "metadata": {},
   "outputs": [],
   "source": [
    "data_lake = dl_helper.DataLake(version='v3')"
   ]
  },
  {
   "cell_type": "code",
   "execution_count": null,
   "metadata": {},
   "outputs": [],
   "source": []
  },
  {
   "cell_type": "code",
   "execution_count": 24,
   "metadata": {},
   "outputs": [],
   "source": [
    "def load_feature(feature, load_version=None):\n",
    "\n",
    "    if load_version is None:\n",
    "        data_lake_ = data_lake\n",
    "    else:\n",
    "        data_lake_ = DataLake(version=load_version)\n",
    "    \n",
    "    df[feature] = data_lake_.load_obj(feature + '.pkl')"
   ]
  },
  {
   "cell_type": "code",
   "execution_count": null,
   "metadata": {},
   "outputs": [],
   "source": []
  },
  {
   "cell_type": "code",
   "execution_count": 25,
   "metadata": {},
   "outputs": [],
   "source": [
    "#setting up dataframe \n",
    "\n",
    "df_train_table = pd.read_csv('../../source/dataset/train_set.csv')\n",
    "df_train_table.index = df_train_table.pk_id\n",
    "df_train_table['path'] = 'source/dataset/train_set/'\n",
    "del df_train_table['pk_id']\n",
    "\n",
    "df_test_table = pd.read_csv('../../source/dataset/test_set.csv')\n",
    "df_test_table.index = df_test_table.pk_id\n",
    "df_test_table['path'] = 'source/dataset/test_set/'\n",
    "del df_test_table['pk_id']\n",
    "\n",
    "df = df_train_table.append(df_test_table, sort=False)\n",
    "\n",
    "del df['master_tree']"
   ]
  },
  {
   "cell_type": "code",
   "execution_count": null,
   "metadata": {},
   "outputs": [],
   "source": []
  },
  {
   "cell_type": "code",
   "execution_count": 134,
   "metadata": {},
   "outputs": [],
   "source": [
    "class Feature:\n",
    "    \n",
    "    def __init__(self):\n",
    "        self.values = []\n",
    "        self.name = ''\n",
    "    \n",
    "    def transform(self, text):\n",
    "        pass"
   ]
  },
  {
   "cell_type": "code",
   "execution_count": 135,
   "metadata": {},
   "outputs": [],
   "source": [
    "class Length(Feature):\n",
    "    def __init__(self):\n",
    "        self.name = 'letter_lenght'\n",
    "        self.values = []\n",
    "    \n",
    "    def transform(self, text):\n",
    "        return len(text)"
   ]
  },
  {
   "cell_type": "code",
   "execution_count": 136,
   "metadata": {},
   "outputs": [],
   "source": [
    "class Word_Count(Feature):\n",
    "    def __init__(self):\n",
    "        self.name = 'word_count'\n",
    "        self.values = []\n",
    "    \n",
    "    def transform(self, text):\n",
    "        return len(text.split())"
   ]
  },
  {
   "cell_type": "code",
   "execution_count": null,
   "metadata": {},
   "outputs": [],
   "source": []
  },
  {
   "cell_type": "code",
   "execution_count": 137,
   "metadata": {},
   "outputs": [],
   "source": [
    "enumeration_regex = \"\\n[0-9]{1,2}[.]\\s[a-zA-Z]\"\n",
    "enumeration_regex_2 = \"\\n[0-9]{1,2}[.]\"\n",
    "\n",
    "class Enum_Presence(Feature):\n",
    "    def __init__(self):\n",
    "        self.name = 'enumeration_presence'\n",
    "        self.values = []\n",
    "    \n",
    "    def transform(self, text):\n",
    "        enums = re.findall(enumeration_regex, text)\n",
    "        enums_len = len(enums)\n",
    "        return enums_len > 0"
   ]
  },
  {
   "cell_type": "code",
   "execution_count": 138,
   "metadata": {},
   "outputs": [],
   "source": [
    "class Enum_Count(Feature):\n",
    "    def __init__(self):\n",
    "        self.name = 'enumeration_count'\n",
    "        self.values = []\n",
    "    \n",
    "    def transform(self, text):\n",
    "        enums = re.findall(enumeration_regex, text)\n",
    "        enums_len = len(enums)\n",
    "        return enums_len"
   ]
  },
  {
   "cell_type": "code",
   "execution_count": 139,
   "metadata": {},
   "outputs": [],
   "source": [
    "class Enum_Repeated(Feature):\n",
    "    def __init__(self):\n",
    "        self.name = 'enumeration_repeated'\n",
    "        self.values = []\n",
    "    \n",
    "    def transform(self, text):\n",
    "        enums = re.findall(enumeration_regex, text)\n",
    "        enums = re.findall(enumeration_regex_2, ' '.join(enums))\n",
    "        \n",
    "        unique_enums = list(set(enums))\n",
    "        has_repeated_enums = not len(unique_enums) == len(enums)\n",
    "        return has_repeated_enums"
   ]
  },
  {
   "cell_type": "code",
   "execution_count": null,
   "metadata": {},
   "outputs": [],
   "source": []
  },
  {
   "cell_type": "code",
   "execution_count": 140,
   "metadata": {},
   "outputs": [],
   "source": [
    "def look_for_text_list(text_list, text):\n",
    "    text = text.lower()\n",
    "    has_text = False\n",
    "    for text_to_look_for in text_list:\n",
    "        has_text = (text_to_look_for in text) or has_text\n",
    "    return has_text"
   ]
  },
  {
   "cell_type": "code",
   "execution_count": 141,
   "metadata": {},
   "outputs": [],
   "source": [
    "#SEC letters classification\n",
    "################################\n",
    "\n",
    "class SEC_Header(Feature):\n",
    "    def __init__(self):\n",
    "        self.name = 'sec_header_presence'\n",
    "        self.values = []\n",
    "        \n",
    "        header_sentence_1 = 'UNITED STATES SECURITIES AND EXCHANGE COMMISSION'.lower()\n",
    "        header_sentence_2 = 'WASHINGTON, D.C. 20549-4628'.lower()\n",
    "        header_sentence_3 = 'DIVISION OF CORPORATION FINANCE'.lower()\n",
    "        self.sec_headers = [header_sentence_1, header_sentence_2, header_sentence_3]\n",
    "        self.sec_headers = ' '.join(sec_headers)\n",
    "\n",
    "        self.look_for_sec_headers = partial(look_for_text_list, sec_headers)\n",
    "    \n",
    "    def transform(self, text):\n",
    "        return look_for_sec_headers(text)"
   ]
  },
  {
   "cell_type": "code",
   "execution_count": null,
   "metadata": {},
   "outputs": [],
   "source": []
  },
  {
   "cell_type": "code",
   "execution_count": 142,
   "metadata": {},
   "outputs": [],
   "source": [
    "#Response letters classification\n",
    "################################\n",
    "\n",
    "class Response_Text(Feature):\n",
    "    def __init__(self):\n",
    "        self.name = 'response_presence'\n",
    "        self.values = []\n",
    "        \n",
    "        rl_sentence_2 = 'response :'.lower()\n",
    "        rl_sentence_4 = 'responses :'.lower()\n",
    "        rl_headers = [rl_sentence_2, rl_sentence_4]\n",
    "        self.look_for_rl_headers = partial(look_for_text_list, rl_headers)\n",
    "    \n",
    "    def transform(self, text):\n",
    "        return look_for_rl_headers(text)"
   ]
  },
  {
   "cell_type": "code",
   "execution_count": null,
   "metadata": {},
   "outputs": [],
   "source": []
  },
  {
   "cell_type": "code",
   "execution_count": 143,
   "metadata": {},
   "outputs": [],
   "source": [
    "#Comment letters classification\n",
    "################################\n",
    "\n",
    "class Comment_Text(Feature):\n",
    "    def __init__(self):\n",
    "        self.name = 'cl_sentence_presence'\n",
    "        self.values = []\n",
    "        \n",
    "        cl_sentence_1 = 'We have reviewed your filing and have the following comments.'.lower()\n",
    "        cl_sentence_2 = 'After reviewing your response to these comments, we may have additional comments.'.lower()\n",
    "        cl_headers = [cl_sentence_1, cl_sentence_2]\n",
    "\n",
    "        self.look_for_cl_headers = partial(look_for_text_list, cl_headers)\n",
    "    \n",
    "    def transform(self, text):\n",
    "        return look_for_cl_headers(text)"
   ]
  },
  {
   "cell_type": "code",
   "execution_count": null,
   "metadata": {},
   "outputs": [],
   "source": []
  },
  {
   "cell_type": "markdown",
   "metadata": {},
   "source": [
    "# Extracting features !"
   ]
  },
  {
   "cell_type": "code",
   "execution_count": 144,
   "metadata": {},
   "outputs": [],
   "source": [
    "file_extension = '.txt'\n",
    "\n",
    "features = [Length(), \n",
    "            Word_Count(),\n",
    "            Enum_Presence(),\n",
    "            Enum_Count(),\n",
    "            Enum_Repeated(),\n",
    "            SEC_Header(),\n",
    "            Response_Text(),\n",
    "            Comment_Text()]\n",
    "\n",
    "texts = []\n",
    "for i in range(0,len(df)):\n",
    "    item = df.iloc[i]\n",
    "    pk_id = str(item.name)\n",
    "    text = open(item.path + pk_id + file_extension).read()\n",
    "    texts.append(text)\n",
    "    \n",
    "    #getting each feature from every text item\n",
    "    for feature in features:\n",
    "        t = feature.transform(text)\n",
    "        feature.values.append(t)    \n",
    "\n",
    "#saving each feature as a pandas series\n",
    "for feature in features:\n",
    "    df[feature.name] = feature.values\n",
    "    feature_as_serie = df[feature.name]\n",
    "    data_lake.save_obj(feature_as_serie, feature.name + '.pkl')\n",
    "    del df[feature.name]"
   ]
  },
  {
   "cell_type": "code",
   "execution_count": null,
   "metadata": {},
   "outputs": [],
   "source": []
  },
  {
   "cell_type": "code",
   "execution_count": 145,
   "metadata": {},
   "outputs": [],
   "source": [
    "#getting word_density feature here!\n",
    "#\n",
    "letter_lenght = data_lake.load_obj(Length().name + '.pkl')\n",
    "word_count = data_lake.load_obj(Word_Count().name + '.pkl')\n",
    "word_density = letter_lenght/(word_count+1)\n",
    "\n",
    "data_lake.save_obj(word_density, 'word_density.pkl')"
   ]
  },
  {
   "cell_type": "code",
   "execution_count": null,
   "metadata": {},
   "outputs": [],
   "source": []
  },
  {
   "cell_type": "code",
   "execution_count": 155,
   "metadata": {},
   "outputs": [
    {
     "name": "stdout",
     "output_type": "stream",
     "text": [
      "letter_lenght 55556\n",
      "word_count 55556\n",
      "enumeration_presence 55556\n",
      "enumeration_count 55556\n",
      "enumeration_repeated 55556\n",
      "sec_header_presence 55556\n",
      "response_presence 55556\n",
      "cl_sentence_presence 55556\n",
      "df 55556\n"
     ]
    }
   ],
   "source": [
    "#just checking...\n",
    "\n",
    "for f in features:\n",
    "    print(f.name, len(data_lake.load_obj(f.name + '.pkl')))\n",
    "\n",
    "print('df', len(df))"
   ]
  },
  {
   "cell_type": "code",
   "execution_count": null,
   "metadata": {},
   "outputs": [],
   "source": []
  },
  {
   "cell_type": "markdown",
   "metadata": {},
   "source": [
    "# Pipelines "
   ]
  },
  {
   "cell_type": "code",
   "execution_count": 158,
   "metadata": {},
   "outputs": [],
   "source": [
    "class TextToLower(TransformerMixin, BaseEstimator):\n",
    "    def fit(self, x, y=None):\n",
    "        return self\n",
    "    def transform(self, texts):\n",
    "        return [text.lower() for text in texts]\n",
    "        \n",
    "class TextWithOutStopWords(TransformerMixin, BaseEstimator):\n",
    "    def fit(self, x, y=None):\n",
    "        return self\n",
    "    def transform(self, texts):\n",
    "        texts_ = []\n",
    "        for text in texts:\n",
    "            text = text.replace('\\n', ' ')\n",
    "            text = \" \".join([i for i in word_tokenize(text) if i not in STOPWORDS])\n",
    "            texts_.append(text)\n",
    "        \n",
    "        return texts_\n",
    "\n",
    "class TextWithOutNonASCII(TransformerMixin, BaseEstimator):\n",
    "    def fit(self, x, y=None):\n",
    "        return self\n",
    "    def transform(self, texts):\n",
    "        texts_ = []\n",
    "        for text in texts:\n",
    "            text = text.encode(\"ascii\", \"ignore\").decode()\n",
    "            texts_.append(text)\n",
    "        \n",
    "        return texts_\n",
    "    \n",
    "ps = PorterStemmer() \n",
    "class TextStemming(TransformerMixin, BaseEstimator):\n",
    "    def fit(self, x, y=None):\n",
    "        return self\n",
    "    def transform(self, texts):\n",
    "        texts_ = []\n",
    "        for text in texts:\n",
    "            tokenized_words = word_tokenize(text)\n",
    "            for i, w in enumerate(tokenized_words):\n",
    "                tokenized_words[i] = ps.stem(w)\n",
    "                text = ' '.join(tokenized_words)\n",
    "            \n",
    "            texts_.append(text)\n",
    "        \n",
    "        return texts_"
   ]
  },
  {
   "cell_type": "code",
   "execution_count": 169,
   "metadata": {
    "collapsed": true
   },
   "outputs": [
    {
     "ename": "AttributeError",
     "evalue": "'DataLake' object has no attribute 'save_object'",
     "output_type": "error",
     "traceback": [
      "\u001b[0;31m---------------------------------------------------------------------------\u001b[0m",
      "\u001b[0;31mAttributeError\u001b[0m                            Traceback (most recent call last)",
      "\u001b[0;32m<ipython-input-169-2dc80bbf0553>\u001b[0m in \u001b[0;36m<module>\u001b[0;34m\u001b[0m\n\u001b[1;32m     10\u001b[0m \u001b[0mdf\u001b[0m\u001b[0;34m[\u001b[0m\u001b[0mf_name\u001b[0m\u001b[0;34m]\u001b[0m \u001b[0;34m=\u001b[0m \u001b[0mtexts_t\u001b[0m\u001b[0;34m\u001b[0m\u001b[0;34m\u001b[0m\u001b[0m\n\u001b[1;32m     11\u001b[0m \u001b[0;34m\u001b[0m\u001b[0m\n\u001b[0;32m---> 12\u001b[0;31m \u001b[0mdata_lake\u001b[0m\u001b[0;34m.\u001b[0m\u001b[0msave_object\u001b[0m\u001b[0;34m(\u001b[0m\u001b[0mdf\u001b[0m\u001b[0;34m[\u001b[0m\u001b[0mf_name\u001b[0m\u001b[0;34m]\u001b[0m\u001b[0;34m,\u001b[0m \u001b[0mf_name\u001b[0m \u001b[0;34m+\u001b[0m \u001b[0;34m'.pkl'\u001b[0m\u001b[0;34m)\u001b[0m\u001b[0;34m\u001b[0m\u001b[0;34m\u001b[0m\u001b[0m\n\u001b[0m\u001b[1;32m     13\u001b[0m \u001b[0;34m\u001b[0m\u001b[0m\n\u001b[1;32m     14\u001b[0m \u001b[0mtrain_x\u001b[0m \u001b[0;34m=\u001b[0m \u001b[0mdf\u001b[0m\u001b[0;34m[\u001b[0m\u001b[0mdf\u001b[0m\u001b[0;34m.\u001b[0m\u001b[0mpath\u001b[0m \u001b[0;34m==\u001b[0m \u001b[0;34m'dataset/train_set/'\u001b[0m\u001b[0;34m]\u001b[0m\u001b[0;34m[\u001b[0m\u001b[0mf_name\u001b[0m\u001b[0;34m]\u001b[0m\u001b[0;34m\u001b[0m\u001b[0;34m\u001b[0m\u001b[0m\n",
      "\u001b[0;31mAttributeError\u001b[0m: 'DataLake' object has no attribute 'save_object'"
     ]
    }
   ],
   "source": [
    "pipeline = Pipeline([\n",
    "    (\"T_to_L\", TextToLower()),\n",
    "    (\"T_no_SW\", TextWithOutStopWords()),\n",
    "    (\"T_no_ascii\", TextWithOutNonASCII()),\n",
    "    (\"TS\", TextStemming())#PROBAR TMB CON Lemmatization !!!\n",
    "    ])\n",
    "    \n",
    "f_name = 'text_normalized'\n",
    "texts_t = pipeline.transform(texts)\n",
    "\n",
    "df[f_name] = texts_t\n",
    "data_lake.save_obj(df[f_name], f_name + '.pkl')\n",
    "del df[f_name]\n"
   ]
  },
  {
   "cell_type": "code",
   "execution_count": null,
   "metadata": {},
   "outputs": [],
   "source": []
  },
  {
   "cell_type": "markdown",
   "metadata": {},
   "source": [
    "# Data cleaning "
   ]
  },
  {
   "cell_type": "code",
   "execution_count": 26,
   "metadata": {},
   "outputs": [],
   "source": [
    "load_feature('letter_lenght')"
   ]
  },
  {
   "cell_type": "code",
   "execution_count": 16,
   "metadata": {},
   "outputs": [
    {
     "data": {
      "text/plain": [
       "Text(0.5, 1.0, 'letter_lenght distribution')"
      ]
     },
     "execution_count": 16,
     "metadata": {},
     "output_type": "execute_result"
    },
    {
     "data": {
      "image/png": "[encoded data removed]",
      "text/plain": [
       "<Figure size 432x288 with 1 Axes>"
      ]
     },
     "metadata": {
      "needs_background": "light"
     },
     "output_type": "display_data"
    }
   ],
   "source": [
    "sns.distplot(df.letter_lenght, bins = 1000)\n",
    "plt.xlim(0, 60000)\n",
    "plt.ylabel('density')\n",
    "plt.title('letter_lenght distribution')"
   ]
  },
  {
   "cell_type": "code",
   "execution_count": 7,
   "metadata": {},
   "outputs": [
    {
     "name": "stdout",
     "output_type": "stream",
     "text": [
      "df_.letter_lenght > 35000 => 4.18\n",
      "df_.letter_lenght > 35000 => ['RL' 'UU']\n"
     ]
    }
   ],
   "source": [
    "threshold = 35000\n",
    "msg = \"df_.letter_lenght > \" + str(threshold) + \" =>\"\n",
    "print(msg, round(len(df[df.letter_lenght > threshold]) / len(df) * 100, 2))\n",
    "print(msg, df[df.letter_lenght > threshold].category.unique())"
   ]
  },
  {
   "cell_type": "code",
   "execution_count": null,
   "metadata": {},
   "outputs": [],
   "source": []
  },
  {
   "cell_type": "code",
   "execution_count": 8,
   "metadata": {},
   "outputs": [],
   "source": [
    "#removing outliers\n",
    "df = df[df.letter_lenght < threshold]"
   ]
  },
  {
   "cell_type": "code",
   "execution_count": 27,
   "metadata": {},
   "outputs": [],
   "source": [
    "df_train_table = df[df.path == 'source/dataset/train_set/']\n",
    "df_test_table = df[df.path == 'source/dataset/test_set/']"
   ]
  },
  {
   "cell_type": "code",
   "execution_count": 28,
   "metadata": {},
   "outputs": [
    {
     "name": "stdout",
     "output_type": "stream",
     "text": [
      "train & test dataset presentan las mismas categorias\n"
     ]
    }
   ],
   "source": [
    "# SHOULD REMOVE ACAK CATEGORY !!!\n",
    "#\n",
    "\n",
    "train_categories = df_train_table.category.unique()\n",
    "test_categories = df_test_table.category.unique()\n",
    "\n",
    "if len(train_categories) < len(test_categories):\n",
    "    print('categorias que no se puede entrenar:')\n",
    "    cat_to_remove = [c for c in test_categories if c not in train_categories]\n",
    "    print(cat_to_remove)\n",
    "\n",
    "    #removing categories that are not in the train data set\n",
    "    for c in cat_to_remove:\n",
    "        df = df[df.category != c]\n",
    "        df_train_table = df[df.path == 'source/dataset/train_set/']\n",
    "        df_test_table = df[df.path == 'source/dataset/test_set/']\n",
    "else:\n",
    "    print('train & test dataset presentan las mismas categorias')"
   ]
  },
  {
   "cell_type": "code",
   "execution_count": 29,
   "metadata": {},
   "outputs": [],
   "source": [
    "del df['letter_lenght']"
   ]
  },
  {
   "cell_type": "code",
   "execution_count": 30,
   "metadata": {},
   "outputs": [],
   "source": [
    "# saving cleaned dataframe !!\n",
    "#\n",
    "\n",
    "df.to_csv('../../source/features/v3/df-cleaned.csv')\n",
    "#data_lake.save_obj(df, 'df-cleaned.pkl')"
   ]
  },
  {
   "cell_type": "code",
   "execution_count": null,
   "metadata": {},
   "outputs": [],
   "source": []
  },
  {
   "cell_type": "code",
   "execution_count": null,
   "metadata": {},
   "outputs": [],
   "source": []
  },
  {
   "cell_type": "code",
   "execution_count": null,
   "metadata": {},
   "outputs": [],
   "source": []
  },
  {
   "cell_type": "markdown",
   "metadata": {},
   "source": [
    "# Feature vectors"
   ]
  },
  {
   "cell_type": "code",
   "execution_count": 222,
   "metadata": {},
   "outputs": [],
   "source": [
    "load_feature(f_name)\n",
    "train_x = df[df.path == 'source/dataset/train_set/'][f_name]\n",
    "valid_x = df[df.path == 'source/dataset/test_set/'][f_name]"
   ]
  },
  {
   "cell_type": "code",
   "execution_count": null,
   "metadata": {},
   "outputs": [],
   "source": []
  },
  {
   "cell_type": "code",
   "execution_count": 223,
   "metadata": {},
   "outputs": [
    {
     "name": "stdout",
     "output_type": "stream",
     "text": [
      "fitting CountVectorizer...\n",
      "fitting finished - time:  124.39757490158081\n",
      "\n"
     ]
    }
   ],
   "source": [
    "# Count Vectors as features\n",
    "########################################\n",
    "\n",
    "print(\"fitting CountVectorizer...\")\n",
    "time_start = time.time()\n",
    "\n",
    "config = data_lake.load_config('count_vect_config.txt')\n",
    "\n",
    "# create a count vectorizer object \n",
    "count_vect = CountVectorizer(analyzer=config['analyzer'],\n",
    "                             token_pattern=config['token_pattern'],\n",
    "                             ngram_range=config['ngram_range'])\n",
    "count_vect.fit(df[f_name])\n",
    "\n",
    "# transform the training and validation data using count vectorizer object\n",
    "xtrain_count =  count_vect.transform(train_x)\n",
    "xvalid_count =  count_vect.transform(valid_x)\n",
    "\n",
    "#saving matrices\n",
    "data_lake.save_npz(xvalid_count, \"xvalid_count.npz\")\n",
    "data_lake.save_npz(xtrain_count, \"xtrain_count.npz\")\n",
    "data_lake.save_obj(count_vect, \"count_vect.pkl\")\n",
    "\n",
    "print(\"fitting finished - time: \", time.time() - time_start)\n",
    "print()"
   ]
  },
  {
   "cell_type": "code",
   "execution_count": 224,
   "metadata": {},
   "outputs": [
    {
     "name": "stdout",
     "output_type": "stream",
     "text": [
      "fitting word level tf-idf...\n",
      "fitting finished - time:  47.41982913017273\n",
      "\n"
     ]
    }
   ],
   "source": [
    "# word level tf-idf\n",
    "###################\n",
    "\n",
    "print(\"fitting word level tf-idf...\")\n",
    "time_start = time.time()\n",
    "\n",
    "config = data_lake.load_config('tf_idf_word_vect_config.txt')\n",
    "\n",
    "#TODO: probar otros valores para max_features, 1D uso 50.000\n",
    "tfidf_vect = TfidfVectorizer(analyzer=config['analyzer'],\n",
    "                             token_pattern=config['token_pattern'],\n",
    "                             max_features=config['max_features'])\n",
    "tfidf_vect.fit(df[f_name])\n",
    "xtrain_tfidf =  tfidf_vect.transform(train_x)\n",
    "xvalid_tfidf =  tfidf_vect.transform(valid_x)\n",
    "\n",
    "#saving matrices\n",
    "data_lake.save_npz(xvalid_tfidf, \"xvalid_tfidf.npz\")\n",
    "data_lake.save_npz(xtrain_tfidf, \"xtrain_tfidf.npz\")\n",
    "\n",
    "print(\"fitting finished - time: \", time.time() - time_start)\n",
    "print()"
   ]
  },
  {
   "cell_type": "code",
   "execution_count": 225,
   "metadata": {},
   "outputs": [
    {
     "name": "stdout",
     "output_type": "stream",
     "text": [
      "fitting ngram level tf-idf...\n",
      "fitting finished - time:  246.00837469100952\n",
      "\n"
     ]
    }
   ],
   "source": [
    "# n-gram level tf-idf \n",
    "####################\n",
    "\n",
    "print(\"fitting ngram level tf-idf...\")\n",
    "time_start = time.time()\n",
    "\n",
    "config = data_lake.load_config('tf_idf_n_gram_vect_config.txt')\n",
    "\n",
    "#TODO: probar otros valores para max_features, 1D uso 50.000\n",
    "tfidf_vect_ngram = TfidfVectorizer(analyzer=config['analyzer'],\n",
    "                                   token_pattern=config['token_pattern'],\n",
    "                                   ngram_range=config['ngram_range'],\n",
    "                                   max_features=config['max_features'])\n",
    "tfidf_vect_ngram.fit(df[f_name])\n",
    "xtrain_tfidf_ngram =  tfidf_vect_ngram.transform(train_x)\n",
    "xvalid_tfidf_ngram =  tfidf_vect_ngram.transform(valid_x)\n",
    "\n",
    "#saving matrices\n",
    "data_lake.save_npz(xvalid_tfidf_ngram, \"xvalid_tfidf_ngram.npz\")\n",
    "data_lake.save_npz(xtrain_tfidf_ngram, \"xtrain_tfidf_ngram.npz\")\n",
    "data_lake.save_obj(tfidf_vect_ngram, \"tfidf_vect_ngram.pkl\")\n",
    "\n",
    "print(\"fitting finished - time: \", time.time() - time_start)\n",
    "print()"
   ]
  },
  {
   "cell_type": "code",
   "execution_count": 226,
   "metadata": {},
   "outputs": [
    {
     "name": "stdout",
     "output_type": "stream",
     "text": [
      "fitting characters level tf-idf...\n"
     ]
    },
    {
     "name": "stderr",
     "output_type": "stream",
     "text": [
      "//anaconda3/lib/python3.7/site-packages/sklearn/feature_extraction/text.py:524: UserWarning: The parameter 'token_pattern' will not be used since 'analyzer' != 'word'\n",
      "  warnings.warn(\"The parameter 'token_pattern' will not be used\"\n"
     ]
    },
    {
     "name": "stdout",
     "output_type": "stream",
     "text": [
      "fitting finished - time:  443.69289684295654\n",
      "\n"
     ]
    }
   ],
   "source": [
    "# characters level tf-idf\n",
    "#########################\n",
    "\n",
    "print(\"fitting characters level tf-idf...\")\n",
    "time_start = time.time()\n",
    "\n",
    "config = data_lake.load_config('tf_idf_char_vect_config.txt')\n",
    "\n",
    "#TODO: probar otros valores para max_features, 1D uso 50.000\n",
    "tfidf_vect_ngram_chars = TfidfVectorizer(analyzer=config['analyzer'],\n",
    "                                         token_pattern=config['token_pattern'],\n",
    "                                         ngram_range=config['ngram_range'],\n",
    "                                         max_features=config['max_features'])\n",
    "tfidf_vect_ngram_chars.fit(df[f_name])\n",
    "xtrain_tfidf_ngram_chars =  tfidf_vect_ngram_chars.transform(train_x) \n",
    "xvalid_tfidf_ngram_chars =  tfidf_vect_ngram_chars.transform(valid_x) \n",
    "\n",
    "#saving matrices\n",
    "data_lake.save_npz(xvalid_tfidf_ngram_chars, \"xvalid_tfidf_ngram_chars\" + \".npz\")\n",
    "data_lake.save_npz(xtrain_tfidf_ngram_chars, \"xtrain_tfidf_ngram_chars\" + \".npz\")\n",
    "\n",
    "print(\"fitting finished - time: \", time.time() - time_start)\n",
    "print()"
   ]
  },
  {
   "cell_type": "code",
   "execution_count": 227,
   "metadata": {},
   "outputs": [
    {
     "name": "stdout",
     "output_type": "stream",
     "text": [
      "training LDA Model...\n",
      "training finished - time:  899.3639438152313\n",
      "\n"
     ]
    }
   ],
   "source": [
    "#Topic Models as features\n",
    "####################################\n",
    "\n",
    "print(\"training LDA Model...\")\n",
    "time_start = time.time()\n",
    "\n",
    "config = data_lake.load_config('lda_config.txt')\n",
    "\n",
    "# train a LDA Model\n",
    "#TODO: SHOULD TRY VALUES FOR n_components !!!\n",
    "lda_model = decomposition.LatentDirichletAllocation(n_components=config['n_components'],\n",
    "                                                    learning_method=config['learning_method'],\n",
    "                                                    max_iter=config['max_iter'])\n",
    "X_topics = lda_model.fit_transform(xtrain_tfidf_ngram)\n",
    "\n",
    "data_lake.save_obj(X_topics, 'X_topics' + '.pkl')\n",
    "data_lake.save_obj(lda_model, 'lda_model' + '.pkl')\n",
    "\n",
    "print(\"training finished - time: \", time.time() - time_start)\n",
    "print()"
   ]
  },
  {
   "cell_type": "code",
   "execution_count": null,
   "metadata": {},
   "outputs": [],
   "source": []
  },
  {
   "cell_type": "code",
   "execution_count": null,
   "metadata": {},
   "outputs": [],
   "source": []
  },
  {
   "cell_type": "code",
   "execution_count": null,
   "metadata": {},
   "outputs": [],
   "source": []
  },
  {
   "cell_type": "code",
   "execution_count": null,
   "metadata": {},
   "outputs": [],
   "source": []
  },
  {
   "cell_type": "code",
   "execution_count": null,
   "metadata": {},
   "outputs": [],
   "source": []
  },
  {
   "cell_type": "code",
   "execution_count": null,
   "metadata": {},
   "outputs": [],
   "source": []
  },
  {
   "cell_type": "code",
   "execution_count": null,
   "metadata": {},
   "outputs": [],
   "source": []
  },
  {
   "cell_type": "code",
   "execution_count": null,
   "metadata": {},
   "outputs": [],
   "source": []
  }
 ],
 "metadata": {
  "kernelspec": {
   "display_name": "Python 3",
   "language": "python",
   "name": "python3"
  },
  "language_info": {
   "codemirror_mode": {
    "name": "ipython",
    "version": 3
   },
   "file_extension": ".py",
   "mimetype": "text/x-python",
   "name": "python",
   "nbconvert_exporter": "python",
   "pygments_lexer": "ipython3",
   "version": "3.6.10"
  }
 },
 "nbformat": 4,
 "nbformat_minor": 2
}
