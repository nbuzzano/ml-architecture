{
 "cells": [
  {
   "cell_type": "code",
   "execution_count": null,
   "metadata": {},
   "outputs": [],
   "source": [
    "# The way which the data frame is loaded is deprecated !\n",
    "#\n",
    "#"
   ]
  },
  {
   "cell_type": "code",
   "execution_count": null,
   "metadata": {},
   "outputs": [],
   "source": []
  },
  {
   "cell_type": "code",
   "execution_count": null,
   "metadata": {},
   "outputs": [],
   "source": []
  },
  {
   "cell_type": "code",
   "execution_count": null,
   "metadata": {},
   "outputs": [],
   "source": [
    "version = 'v2'"
   ]
  },
  {
   "cell_type": "code",
   "execution_count": 14,
   "metadata": {
    "collapsed": true
   },
   "outputs": [
    {
     "ename": "AttributeError",
     "evalue": "module 'logging' has no attribute 'config'",
     "output_type": "error",
     "traceback": [
      "\u001b[0;31m---------------------------------------------------------------------------\u001b[0m",
      "\u001b[0;31mAttributeError\u001b[0m                            Traceback (most recent call last)",
      "\u001b[0;32m<ipython-input-14-73ce6c882275>\u001b[0m in \u001b[0;36m<module>\u001b[0;34m\u001b[0m\n\u001b[1;32m     15\u001b[0m \u001b[0;34m\u001b[0m\u001b[0m\n\u001b[1;32m     16\u001b[0m \u001b[0;32mimport\u001b[0m \u001b[0mlogging\u001b[0m\u001b[0;34m\u001b[0m\u001b[0;34m\u001b[0m\u001b[0m\n\u001b[0;32m---> 17\u001b[0;31m \u001b[0mlogging\u001b[0m\u001b[0;34m.\u001b[0m\u001b[0mconfig\u001b[0m\u001b[0;34m.\u001b[0m\u001b[0mfileConfig\u001b[0m\u001b[0;34m(\u001b[0m\u001b[0;34m'logger.conf'\u001b[0m\u001b[0;34m)\u001b[0m\u001b[0;34m\u001b[0m\u001b[0;34m\u001b[0m\u001b[0m\n\u001b[0m\u001b[1;32m     18\u001b[0m \u001b[0mlogger\u001b[0m \u001b[0;34m=\u001b[0m \u001b[0mlogging\u001b[0m\u001b[0;34m.\u001b[0m\u001b[0mgetLogger\u001b[0m\u001b[0;34m(\u001b[0m\u001b[0;34m'simpleLogger'\u001b[0m\u001b[0;34m)\u001b[0m\u001b[0;34m\u001b[0m\u001b[0;34m\u001b[0m\u001b[0m\n\u001b[1;32m     19\u001b[0m \u001b[0;31m#use -> logger.info('some log comment')\u001b[0m\u001b[0;34m\u001b[0m\u001b[0;34m\u001b[0m\u001b[0;34m\u001b[0m\u001b[0m\n",
      "\u001b[0;31mAttributeError\u001b[0m: module 'logging' has no attribute 'config'"
     ]
    }
   ],
   "source": [
    "import re\n",
    "import os\n",
    "import time\n",
    "import numpy as np\n",
    "import pandas as pd\n",
    "import scipy.stats as stats\n",
    "from scipy import sparse\n",
    "\n",
    "import seaborn as sns\n",
    "import matplotlib.pyplot  as plt\n",
    "\n",
    "from sklearn import preprocessing, metrics\n",
    "from sklearn.metrics import recall_score\n",
    "from sklearn.preprocessing import OneHotEncoder\n",
    "\n",
    "import logging\n",
    "logging.config.fileConfig('logger.conf')\n",
    "logger = logging.getLogger('simpleLogger')\n",
    "#use -> logger.info('some log comment')"
   ]
  },
  {
   "cell_type": "code",
   "execution_count": 31,
   "metadata": {},
   "outputs": [],
   "source": [
    "df = pd.read_pickle('features/' + version + '/data-exploration-df.pkl')\n",
    "df_train_table = df[df.path == 'dataset/train_set/']\n",
    "df_test_table = df[df.path == 'dataset/test_set/']"
   ]
  },
  {
   "cell_type": "code",
   "execution_count": null,
   "metadata": {},
   "outputs": [],
   "source": []
  },
  {
   "cell_type": "code",
   "execution_count": 10,
   "metadata": {},
   "outputs": [
    {
     "data": {
      "text/plain": [
       "0.38247011952191234"
      ]
     },
     "execution_count": 10,
     "metadata": {},
     "output_type": "execute_result"
    }
   ],
   "source": [
    "# BASELINE MODEL ! ! !\n",
    "#\n",
    "#\n",
    "\n",
    "encoder = preprocessing.LabelEncoder()\n",
    "valid_y = encoder.fit_transform(df_test_table.category.tolist())\n",
    "\n",
    "letter_types = sorted(list(set(df.category.tolist())))\n",
    "\n",
    "for i, v in enumerate(letter_types):\n",
    "    if v == 'RL':\n",
    "        rl_index = i\n",
    "\n",
    "dummy_pred = []\n",
    "for _ in range(0,len(valid_y)):\n",
    "    dummy_pred.append(rl_index)\n",
    "\n",
    "from sklearn.metrics import accuracy_score\n",
    "accuracy_score(valid_y, dummy_pred)"
   ]
  },
  {
   "cell_type": "code",
   "execution_count": null,
   "metadata": {},
   "outputs": [],
   "source": []
  },
  {
   "cell_type": "code",
   "execution_count": null,
   "metadata": {},
   "outputs": [],
   "source": [
    "# MY MODEL ! ! !\n",
    "# \n",
    "#"
   ]
  },
  {
   "cell_type": "code",
   "execution_count": 16,
   "metadata": {},
   "outputs": [],
   "source": [
    "df_cat_dummy = pd.DataFrame()\n",
    "df_cat_dummy['file_type'] = np.zeros(len(df.category.unique()))\n",
    "df_cat_dummy.index = df.category.unique()"
   ]
  },
  {
   "cell_type": "code",
   "execution_count": 17,
   "metadata": {},
   "outputs": [],
   "source": [
    "def feature_prob(filter_key, filter_key_value, \n",
    "                 group_key='category', sort_key_value='category'):\n",
    "    \n",
    "    df_filtered = df[df[filter_key] == filter_key_value]\n",
    "    df_grouped = df_filtered.groupby(group_key).count()\n",
    "\n",
    "    use_dummy_df = True\n",
    "    if use_dummy_df:\n",
    "        #agrego categories que no estan \n",
    "        for i in range(0, len(df_cat_dummy)):\n",
    "            item = df_cat_dummy.iloc[i]\n",
    "            if item.name not in df_grouped.index:\n",
    "                df_grouped = df_grouped.append(item)\n",
    "\n",
    "    df_grouped.sort_values(by=[sort_key_value], inplace=True)\n",
    "    \n",
    "    total = df_grouped.file_type.sum()\n",
    "    df_grouped['percentage'] = round(df_grouped.file_type / total * 100, 2)\n",
    "    \n",
    "    return df_grouped.percentage\n",
    "\n"
   ]
  },
  {
   "cell_type": "code",
   "execution_count": 27,
   "metadata": {},
   "outputs": [],
   "source": [
    "def predict(item):\n",
    "    \n",
    "    prob = feature_prob(filter_key='file_type', filter_key_value=item.file_type)\n",
    "    \n",
    "    prob = prob + feature_prob(filter_key='enumeration_presence', filter_key_value=item.enumeration_presence)\n",
    "    \n",
    "    if item.enumeration_presence:\n",
    "        prob = prob + feature_prob(filter_key='enumeration_repeated', filter_key_value=True)\n",
    "    \n",
    "    prob = prob + feature_prob(filter_key='sec_header_presence', filter_key_value=item.sec_header_presence)\n",
    "    \n",
    "    prob = prob + feature_prob(filter_key='cl_sentence_presence', filter_key_value=item.cl_sentence_presence)\n",
    "    \n",
    "    prob = prob + feature_prob(filter_key='response_presence', filter_key_value=item.response_presence)\n",
    "    \n",
    "    prob = prob + feature_prob(filter_key='most_freq_words_count', filter_key_value=item.most_freq_words_count)\n",
    "    \n",
    "    prob = prob + feature_prob(filter_key='less_freq_bgs_count', filter_key_value=item.less_freq_bgs_count)\n",
    "    \n",
    "    prob = pd.DataFrame(prob)\n",
    "    max_prob = prob.max()\n",
    "    pred = ''\n",
    "    \n",
    "    for i in range(0,len(prob)):\n",
    "        if float(prob.iloc[i].percentage) == float(max_prob):\n",
    "            pred = prob.iloc[i].name\n",
    "    \n",
    "    return pred"
   ]
  },
  {
   "cell_type": "code",
   "execution_count": 19,
   "metadata": {},
   "outputs": [],
   "source": [
    "my_predictions = []\n",
    "for i in range(0, len(df_test_table)):\n",
    "    value_pred = predict(df_test_table.iloc[i])\n",
    "    my_predictions.append(value_pred)"
   ]
  },
  {
   "cell_type": "code",
   "execution_count": 20,
   "metadata": {},
   "outputs": [
    {
     "name": "stdout",
     "output_type": "stream",
     "text": [
      "accuracy 0.4641434262948207\n",
      "\n",
      "[('ACAK', 0.0), ('AK', 0.0), ('AR', 0.0), ('CL', 0.26688102893890675), ('ER', 0.0), ('FL', 0.0), ('ND', 0.0), ('RL', 0.9973958333333334), ('TM', 0.0), ('UR', 0.0), ('UU', 0.0)]\n"
     ]
    }
   ],
   "source": [
    "encoder = preprocessing.LabelEncoder()\n",
    "encoder.fit(letter_types)\n",
    "my_predictions_encoded = encoder.transform(my_predictions)\n",
    "\n",
    "from sklearn.metrics import accuracy_score\n",
    "accuracy = accuracy_score(valid_y, my_predictions_encoded)\n",
    "print('accuracy', accuracy)\n",
    "print()\n",
    "\n",
    "items_recall = recall_score(valid_y, my_predictions_encoded, average=None)    \n",
    "if len(letter_types) != len(items_recall):\n",
    "    raise Exception('len(letter_types) != len(items_recall) ' + str(len(letter_types)) + ' != '+ str(len(items_recall)))\n",
    "print(list(zip(letter_types,items_recall)))"
   ]
  },
  {
   "cell_type": "code",
   "execution_count": null,
   "metadata": {},
   "outputs": [],
   "source": []
  },
  {
   "cell_type": "code",
   "execution_count": null,
   "metadata": {},
   "outputs": [],
   "source": [
    "# MY MODEL ! ! !\n",
    "# \n",
    "#"
   ]
  },
  {
   "cell_type": "code",
   "execution_count": 28,
   "metadata": {},
   "outputs": [],
   "source": [
    "def predict_2(item):\n",
    "    if item.response_presence:\n",
    "        return 'RL'\n",
    "    elif item.cl_sentence_presence:\n",
    "        return 'CL'\n",
    "    elif item.sec_header_presence == False:\n",
    "        return 'UU'\n",
    "    elif item.most_freq_words_count == 0:\n",
    "        return 'UU'\n",
    "    elif item.less_freq_bgs_count == 1:\n",
    "        return 'UR'\n",
    "    else:\n",
    "        return 'RL'"
   ]
  },
  {
   "cell_type": "code",
   "execution_count": 32,
   "metadata": {},
   "outputs": [],
   "source": [
    "my_predictions_2 = []\n",
    "for i in range(0, len(df_test_table)):\n",
    "    value_pred = predict_2(df_test_table.iloc[i])\n",
    "    my_predictions_2.append(value_pred)"
   ]
  },
  {
   "cell_type": "code",
   "execution_count": 33,
   "metadata": {},
   "outputs": [
    {
     "name": "stdout",
     "output_type": "stream",
     "text": [
      "accuracy 0.4641434262948207\n",
      "\n",
      "[('ACAK', 0.0), ('AK', 0.0), ('AR', 0.0), ('CL', 0.24758842443729903), ('ER', 0.0), ('FL', 0.0), ('ND', 0.0), ('RL', 1.0), ('TM', 0.0), ('UR', 0.25), ('UU', 0.0375)]\n"
     ]
    }
   ],
   "source": [
    "encoder = preprocessing.LabelEncoder()\n",
    "encoder.fit(letter_types)\n",
    "my_predictions_encoded = encoder.transform(my_predictions_2)\n",
    "\n",
    "from sklearn.metrics import accuracy_score\n",
    "accuracy = accuracy_score(valid_y, my_predictions_encoded)\n",
    "print('accuracy', accuracy)\n",
    "print()\n",
    "\n",
    "items_recall = recall_score(valid_y, my_predictions_encoded, average=None)    \n",
    "if len(letter_types) != len(items_recall):\n",
    "    raise Exception('len(letter_types) != len(items_recall) ' + str(len(letter_types)) + ' != '+ str(len(items_recall)))\n",
    "print(list(zip(letter_types,items_recall)))"
   ]
  },
  {
   "cell_type": "code",
   "execution_count": null,
   "metadata": {},
   "outputs": [],
   "source": []
  },
  {
   "cell_type": "code",
   "execution_count": null,
   "metadata": {},
   "outputs": [],
   "source": [
    "# MY MODEL ! ! !\n",
    "# \n",
    "#"
   ]
  },
  {
   "cell_type": "code",
   "execution_count": 36,
   "metadata": {},
   "outputs": [],
   "source": [
    "def predict_3(item):\n",
    "    if item.response_presence:\n",
    "        return 'RL'\n",
    "    elif item.cl_sentence_presence:\n",
    "        return 'CL'\n",
    "    elif item.sec_header_presence == False:\n",
    "        return 'UU'\n",
    "    elif item.most_freq_words_count == 0:\n",
    "        return 'UU'\n",
    "    elif item.less_freq_bgs_count == 1:\n",
    "        return 'UR'\n",
    "    else:\n",
    "        return predict(item)"
   ]
  },
  {
   "cell_type": "code",
   "execution_count": 34,
   "metadata": {},
   "outputs": [],
   "source": [
    "my_predictions_3 = []\n",
    "for i in range(0, len(df_test_table)):\n",
    "    value_pred = predict_3(df_test_table.iloc[i])\n",
    "    my_predictions_3.append(value_pred)"
   ]
  },
  {
   "cell_type": "code",
   "execution_count": 35,
   "metadata": {},
   "outputs": [
    {
     "name": "stdout",
     "output_type": "stream",
     "text": [
      "accuracy 0.5268924302788844\n",
      "\n",
      "[('ACAK', 0.0), ('AK', 0.0), ('AR', 0.0), ('CL', 0.4630225080385852), ('ER', 0.0), ('FL', 0.0), ('ND', 0.0), ('RL', 0.9947916666666666), ('TM', 0.0), ('UR', 0.0), ('UU', 0.0375)]\n"
     ]
    }
   ],
   "source": [
    "encoder = preprocessing.LabelEncoder()\n",
    "encoder.fit(letter_types)\n",
    "my_predictions_encoded = encoder.transform(my_predictions_3)\n",
    "\n",
    "from sklearn.metrics import accuracy_score\n",
    "accuracy = accuracy_score(valid_y, my_predictions_encoded)\n",
    "print('accuracy', accuracy)\n",
    "print()\n",
    "\n",
    "items_recall = recall_score(valid_y, my_predictions_encoded, average=None)    \n",
    "if len(letter_types) != len(items_recall):\n",
    "    raise Exception('len(letter_types) != len(items_recall) ' + str(len(letter_types)) + ' != '+ str(len(items_recall)))\n",
    "print(list(zip(letter_types,items_recall)))"
   ]
  },
  {
   "cell_type": "code",
   "execution_count": null,
   "metadata": {},
   "outputs": [],
   "source": []
  }
 ],
 "metadata": {
  "kernelspec": {
   "display_name": "Python 3",
   "language": "python",
   "name": "python3"
  },
  "language_info": {
   "codemirror_mode": {
    "name": "ipython",
    "version": 3
   },
   "file_extension": ".py",
   "mimetype": "text/x-python",
   "name": "python",
   "nbconvert_exporter": "python",
   "pygments_lexer": "ipython3",
   "version": "3.7.3"
  }
 },
 "nbformat": 4,
 "nbformat_minor": 2
}
